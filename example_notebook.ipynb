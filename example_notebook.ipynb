{
 "cells": [
  {
   "cell_type": "code",
   "execution_count": null,
   "metadata": {},
   "outputs": [],
   "source": [
    "import httpx\n",
    "client = httpx.Client(\n",
    "    base_url=\"http://localhost:8000/api\",\n",
    "    headers = {\n",
    "    })"
   ]
  },
  {
   "cell_type": "code",
   "execution_count": null,
   "metadata": {},
   "outputs": [],
   "source": [
    "# Add \"Query Rewriting for Retrieval-Augmented Large Language Models\"\n",
    "response = client.put(f\"/documents/\",\n",
    "                      content = \"\\\"https://arxiv.org/pdf/2305.14283.pdf\\\"\",\n",
    "                      timeout = None)\n",
    "response.raise_for_status()"
   ]
  },
  {
   "cell_type": "code",
   "execution_count": null,
   "metadata": {},
   "outputs": [],
   "source": [
    "# Retrieve 4 items with no summary.\n",
    "results = client.post(f\"/statements/retrieve\",\n",
    "                     json = {\n",
    "                         \"query\": \"retrieval augmented generation\",\n",
    "                         \"n\": 4\n",
    "                     },\n",
    "                     timeout = None)\n",
    "results.raise_for_status()\n",
    "\n",
    "results.json()"
   ]
  },
  {
   "cell_type": "code",
   "execution_count": null,
   "metadata": {},
   "outputs": [],
   "source": [
    "# Retrieve 32 items, and include the summary.\n",
    "results = client.post(f\"/statements/retrieve\",\n",
    "                     json = {\n",
    "                         \"query\": \"How does query-rewriting improve Retrieval-Augmented-Generation?\",\n",
    "                         \"n\": 32,\n",
    "                         \"include_summary\": True,\n",
    "                         \"include_statements\": False,\n",
    "                     },\n",
    "                     timeout = None)\n",
    "results.raise_for_status()\n",
    "\n",
    "results.json()"
   ]
  }
 ],
 "metadata": {
  "kernelspec": {
   "display_name": "knowledge-7QbvxqGg-py3.11",
   "language": "python",
   "name": "python3"
  },
  "language_info": {
   "codemirror_mode": {
    "name": "ipython",
    "version": 3
   },
   "file_extension": ".py",
   "mimetype": "text/x-python",
   "name": "python",
   "nbconvert_exporter": "python",
   "pygments_lexer": "ipython3",
   "version": "3.11.4"
  }
 },
 "nbformat": 4,
 "nbformat_minor": 2
}
